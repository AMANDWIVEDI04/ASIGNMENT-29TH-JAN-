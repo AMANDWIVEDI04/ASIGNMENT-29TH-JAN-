{
 "cells": [
  {
   "cell_type": "markdown",
   "id": "c5655f1a-0a01-487a-a949-2ee32aa14d6d",
   "metadata": {},
   "source": [
    "Answer 1- Guido Van Rossum.\n",
    "Answer 2 - Python is a multi programming language .\n",
    "Answer 3 - yes python is a case sensitive programming language , it considers uppercase and lowercase letters differently \n",
    "Answer 4 - .py / .pyi\n",
    "Answer 5- python is an interpreted language , which means the source code of a python program is converted intto bytecode that is executed by the python virtual machine \n",
    "answer 6 - the following blocks are :-  a module, a function body , and a maachine \n",
    "answer 7- Hash character (#) is used to give a single line comments \n",
    "answer 8 - The funtion sys.version can help us to find the versions of python that we are currently work in .\n",
    "answer 9- lambda \n",
    "answer 10- pip Install packages is today the standard tool for installing python packages and their dependenes in a secure manner \n",
    "answer 11 - bin(), bool(), bytearray(). bytes()\n",
    "answer 12- 79 character\n",
    "answer 13 - to use in many fields like as :-  Data science , Scientific and mathematical computing - web developmenat , finance and trading and many more \n",
    "answer 14 - Open a browser to the Python website and download the Windows installer. 2. Double click on the downloaded file and install Python for all . Click on Install now to begin.\n",
    "Right-clicking This PC and going to Properties.\n",
    "Clicking on the Advanced system settings in the menu on the left.\n",
    "Clicking on the Environment Variables button o​n the bottom right.\n",
    "In the System variables section, selecting the Path variable and clicking on Edit.\n",
    "answer 15 - The indentation  in python is very important . python uses indentation to indicate a block of code .\n",
    "\n"
   ]
  },
  {
   "cell_type": "code",
   "execution_count": null,
   "id": "e984a585-63c6-4665-8dc0-a6df1c1a136b",
   "metadata": {},
   "outputs": [],
   "source": []
  }
 ],
 "metadata": {
  "kernelspec": {
   "display_name": "Python 3 (ipykernel)",
   "language": "python",
   "name": "python3"
  },
  "language_info": {
   "codemirror_mode": {
    "name": "ipython",
    "version": 3
   },
   "file_extension": ".py",
   "mimetype": "text/x-python",
   "name": "python",
   "nbconvert_exporter": "python",
   "pygments_lexer": "ipython3",
   "version": "3.10.8"
  }
 },
 "nbformat": 4,
 "nbformat_minor": 5
}
